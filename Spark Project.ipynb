{
 "cells": [
  {
   "cell_type": "code",
   "execution_count": 1,
   "id": "947ad0da-5437-4cc1-997f-0843e7974a8a",
   "metadata": {},
   "outputs": [],
   "source": [
    "from pyspark.sql import SparkSession"
   ]
  },
  {
   "cell_type": "code",
   "execution_count": 2,
   "id": "c53e4460-48e0-47cc-bffc-a2aa903258c5",
   "metadata": {},
   "outputs": [
    {
     "name": "stderr",
     "output_type": "stream",
     "text": [
      "25/10/02 19:11:35 WARN Utils: Your hostname, ehab resolves to a loopback address: 127.0.1.1; using 192.168.125.130 instead (on interface ens33)\n",
      "25/10/02 19:11:35 WARN Utils: Set SPARK_LOCAL_IP if you need to bind to another address\n",
      "Setting default log level to \"WARN\".\n",
      "To adjust logging level use sc.setLogLevel(newLevel). For SparkR, use setLogLevel(newLevel).\n",
      "25/10/02 19:11:37 WARN NativeCodeLoader: Unable to load native-hadoop library for your platform... using builtin-java classes where applicable\n"
     ]
    },
    {
     "data": {
      "text/html": [
       "\n",
       "            <div>\n",
       "                <p><b>SparkSession - in-memory</b></p>\n",
       "                \n",
       "        <div>\n",
       "            <p><b>SparkContext</b></p>\n",
       "\n",
       "            <p><a href=\"http://192.168.125.130:4040\">Spark UI</a></p>\n",
       "\n",
       "            <dl>\n",
       "              <dt>Version</dt>\n",
       "                <dd><code>v3.5.6</code></dd>\n",
       "              <dt>Master</dt>\n",
       "                <dd><code>local[*]</code></dd>\n",
       "              <dt>AppName</dt>\n",
       "                <dd><code>pyspark-shell</code></dd>\n",
       "            </dl>\n",
       "        </div>\n",
       "        \n",
       "            </div>\n",
       "        "
      ],
      "text/plain": [
       "<pyspark.sql.session.SparkSession at 0x78f24a1e3380>"
      ]
     },
     "execution_count": 2,
     "metadata": {},
     "output_type": "execute_result"
    }
   ],
   "source": [
    "spark=SparkSession.builder.getOrCreate()\n",
    "spark"
   ]
  },
  {
   "cell_type": "code",
   "execution_count": 3,
   "id": "e73f23d9-8961-4512-aced-db7f0c573d33",
   "metadata": {},
   "outputs": [
    {
     "data": {
      "text/html": [
       "<style>pre {white-space: pre !important; }</style>"
      ],
      "text/plain": [
       "<IPython.core.display.HTML object>"
      ]
     },
     "metadata": {},
     "output_type": "display_data"
    }
   ],
   "source": [
    "##to display notebook cell with horizontal scroll bar\n",
    "from IPython.display import display, HTML\n",
    "display(HTML(\"<style>pre {white-space: pre !important; }</style>\"))"
   ]
  },
  {
   "cell_type": "code",
   "execution_count": 4,
   "id": "2c5c2256-f39b-4207-88d0-6895427fadd1",
   "metadata": {},
   "outputs": [],
   "source": [
    "df=spark.read.text('/home/ahmed/Desktop/Spark Course data/log data/access.log',lineSep='\\n')"
   ]
  },
  {
   "cell_type": "code",
   "execution_count": 5,
   "id": "13ba2580-2de9-47f0-b9ad-abdff35378cf",
   "metadata": {},
   "outputs": [
    {
     "name": "stderr",
     "output_type": "stream",
     "text": [
      "                                                                                "
     ]
    },
    {
     "name": "stdout",
     "output_type": "stream",
     "text": [
      "+--------------------------------------------------------------------------------------------------------------------------------------------------------------------------------------------------------------------------------------------------------------------------------------------------------------------------+\n",
      "|value                                                                                                                                                                                                                                                                                                                     |\n",
      "+--------------------------------------------------------------------------------------------------------------------------------------------------------------------------------------------------------------------------------------------------------------------------------------------------------------------------+\n",
      "|54.36.149.41 - - [22/Jan/2019:03:56:14 +0330] \"GET /filter/27|13%20%D9%85%DA%AF%D8%A7%D9%BE%DB%8C%DA%A9%D8%B3%D9%84,27|%DA%A9%D9%85%D8%AA%D8%B1%20%D8%A7%D8%B2%205%20%D9%85%DA%AF%D8%A7%D9%BE%DB%8C%DA%A9%D8%B3%D9%84,p53 HTTP/1.1\" 200 30577 \"-\" \"Mozilla/5.0 (compatible; AhrefsBot/6.1; +http://ahrefs.com/robot/)\" \"-\"|\n",
      "|31.56.96.51 - - [22/Jan/2019:03:56:16 +0330] \"GET /image/60844/productModel/200x200 HTTP/1.1\" 200 5667 \"https://www.zanbil.ir/m/filter/b113\" \"Mozilla/5.0 (Linux; Android 6.0; ALE-L21 Build/HuaweiALE-L21) AppleWebKit/537.36 (KHTML, like Gecko) Chrome/66.0.3359.158 Mobile Safari/537.36\" \"-\"                         |\n",
      "|31.56.96.51 - - [22/Jan/2019:03:56:16 +0330] \"GET /image/61474/productModel/200x200 HTTP/1.1\" 200 5379 \"https://www.zanbil.ir/m/filter/b113\" \"Mozilla/5.0 (Linux; Android 6.0; ALE-L21 Build/HuaweiALE-L21) AppleWebKit/537.36 (KHTML, like Gecko) Chrome/66.0.3359.158 Mobile Safari/537.36\" \"-\"                         |\n",
      "|40.77.167.129 - - [22/Jan/2019:03:56:17 +0330] \"GET /image/14925/productModel/100x100 HTTP/1.1\" 200 1696 \"-\" \"Mozilla/5.0 (compatible; bingbot/2.0; +http://www.bing.com/bingbot.htm)\" \"-\"                                                                                                                                |\n",
      "|91.99.72.15 - - [22/Jan/2019:03:56:17 +0330] \"GET /product/31893/62100/%D8%B3%D8%B4%D9%88%D8%A7%D8%B1-%D8%AE%D8%A7%D9%86%DA%AF%DB%8C-%D9%BE%D8%B1%D9%86%D8%B3%D9%84%DB%8C-%D9%85%D8%AF%D9%84-PR257AT HTTP/1.1\" 200 41483 \"-\" \"Mozilla/5.0 (Windows NT 6.2; Win64; x64; rv:16.0)Gecko/16.0 Firefox/16.0\" \"-\"               |\n",
      "+--------------------------------------------------------------------------------------------------------------------------------------------------------------------------------------------------------------------------------------------------------------------------------------------------------------------------+\n",
      "only showing top 5 rows\n",
      "\n"
     ]
    }
   ],
   "source": [
    "df.show(5, truncate=False)"
   ]
  },
  {
   "cell_type": "code",
   "execution_count": 14,
   "id": "6f032b6a-3e37-4fbf-91be-970d715711dc",
   "metadata": {},
   "outputs": [],
   "source": [
    "from pyspark.sql.functions import regexp_extract, col\n",
    "from pyspark.sql.types import IntegerType"
   ]
  },
  {
   "cell_type": "code",
   "execution_count": 18,
   "id": "ea9dfacb-315a-4650-a249-67e538537dcf",
   "metadata": {},
   "outputs": [],
   "source": [
    "LOG_PATTERN = r'^(\\S+) (\\S+) (\\S+) \\[([\\w:/]+\\s[+\\-]\\d{4})\\] \\\"(\\S+) (\\S+) (\\S+)\\\" (\\d{3}) (\\S+) \\\"([^\\\"]*)\\\" \\\"([^\\\"]*)\\\"(\\s.*)?$'"
   ]
  },
  {
   "cell_type": "code",
   "execution_count": 19,
   "id": "9ddf19e7-919f-42ff-b5a2-b5ff852eee8a",
   "metadata": {},
   "outputs": [],
   "source": [
    "extracted_logs_df = df.select(\n",
    "    # 1. Client_Ip (Group 1)\n",
    "    regexp_extract(col('value'),LOG_PATTERN, 1).alias('Client_Ip'),\n",
    "    \n",
    "    # 2. timestamp (Group 4)\n",
    "    regexp_extract(col('value'), LOG_PATTERN, 4).alias('timestamp'),\n",
    "    \n",
    "    # 3. method (Group 5)\n",
    "    regexp_extract(col('value'), LOG_PATTERN, 5).alias('method'),\n",
    "    \n",
    "    # 4. path (Group 6)\n",
    "    regexp_extract(col('value'),LOG_PATTERN, 6).alias('path'),\n",
    "    \n",
    "    # 5. protocol (Group 7)\n",
    "    regexp_extract(col('value'), LOG_PATTERN, 7).alias('protocol'),\n",
    "    \n",
    "    # 6. statusCode (Group 8) - Cast to Integer\n",
    "    regexp_extract(col('value'), LOG_PATTERN, 8).cast(IntegerType()).alias('statusCode'),\n",
    "    \n",
    "    # 7. content-size (Group 9)\n",
    "    regexp_extract(col('value'), LOG_PATTERN, 9).alias('content-size'),\n",
    "    \n",
    "    # 8. referrer (Group 10)\n",
    "    regexp_extract(col('value'), LOG_PATTERN, 10).alias('referrer'),\n",
    "    \n",
    "    # 9. user_agent (Group 11)\n",
    "    regexp_extract(col('value'), LOG_PATTERN, 11).alias('user_agent')\n",
    ")"
   ]
  },
  {
   "cell_type": "code",
   "execution_count": 20,
   "id": "e218b8db-2b76-46d1-b11e-d53577537c32",
   "metadata": {},
   "outputs": [
    {
     "name": "stdout",
     "output_type": "stream",
     "text": [
      "+-------------+--------------------------+------+----------------------------------------------------------------------------------------------------------------------------------------------------------------------+--------+----------+------------+-----------------------------------+----------------------------------------------------------------------------------------------------------------------------------------------+\n",
      "|Client_Ip    |timestamp                 |method|path                                                                                                                                                                  |protocol|statusCode|content-size|referrer                           |user_agent                                                                                                                                    |\n",
      "+-------------+--------------------------+------+----------------------------------------------------------------------------------------------------------------------------------------------------------------------+--------+----------+------------+-----------------------------------+----------------------------------------------------------------------------------------------------------------------------------------------+\n",
      "|54.36.149.41 |22/Jan/2019:03:56:14 +0330|GET   |/filter/27|13%20%D9%85%DA%AF%D8%A7%D9%BE%DB%8C%DA%A9%D8%B3%D9%84,27|%DA%A9%D9%85%D8%AA%D8%B1%20%D8%A7%D8%B2%205%20%D9%85%DA%AF%D8%A7%D9%BE%DB%8C%DA%A9%D8%B3%D9%84,p53|HTTP/1.1|200       |30577       |-                                  |Mozilla/5.0 (compatible; AhrefsBot/6.1; +http://ahrefs.com/robot/)                                                                            |\n",
      "|31.56.96.51  |22/Jan/2019:03:56:16 +0330|GET   |/image/60844/productModel/200x200                                                                                                                                     |HTTP/1.1|200       |5667        |https://www.zanbil.ir/m/filter/b113|Mozilla/5.0 (Linux; Android 6.0; ALE-L21 Build/HuaweiALE-L21) AppleWebKit/537.36 (KHTML, like Gecko) Chrome/66.0.3359.158 Mobile Safari/537.36|\n",
      "|31.56.96.51  |22/Jan/2019:03:56:16 +0330|GET   |/image/61474/productModel/200x200                                                                                                                                     |HTTP/1.1|200       |5379        |https://www.zanbil.ir/m/filter/b113|Mozilla/5.0 (Linux; Android 6.0; ALE-L21 Build/HuaweiALE-L21) AppleWebKit/537.36 (KHTML, like Gecko) Chrome/66.0.3359.158 Mobile Safari/537.36|\n",
      "|40.77.167.129|22/Jan/2019:03:56:17 +0330|GET   |/image/14925/productModel/100x100                                                                                                                                     |HTTP/1.1|200       |1696        |-                                  |Mozilla/5.0 (compatible; bingbot/2.0; +http://www.bing.com/bingbot.htm)                                                                       |\n",
      "|91.99.72.15  |22/Jan/2019:03:56:17 +0330|GET   |/product/31893/62100/%D8%B3%D8%B4%D9%88%D8%A7%D8%B1-%D8%AE%D8%A7%D9%86%DA%AF%DB%8C-%D9%BE%D8%B1%D9%86%D8%B3%D9%84%DB%8C-%D9%85%D8%AF%D9%84-PR257AT                    |HTTP/1.1|200       |41483       |-                                  |Mozilla/5.0 (Windows NT 6.2; Win64; x64; rv:16.0)Gecko/16.0 Firefox/16.0                                                                      |\n",
      "+-------------+--------------------------+------+----------------------------------------------------------------------------------------------------------------------------------------------------------------------+--------+----------+------------+-----------------------------------+----------------------------------------------------------------------------------------------------------------------------------------------+\n",
      "only showing top 5 rows\n",
      "\n"
     ]
    }
   ],
   "source": [
    "extracted_logs_df.show(5, truncate=False)"
   ]
  },
  {
   "cell_type": "code",
   "execution_count": 22,
   "id": "6e6b15a1-9ec5-4f09-b8db-26ee35c46264",
   "metadata": {},
   "outputs": [],
   "source": [
    "from pyspark.sql.functions import to_timestamp, col"
   ]
  },
  {
   "cell_type": "code",
   "execution_count": 23,
   "id": "89794e75-6820-487d-9188-9537f8613af5",
   "metadata": {},
   "outputs": [],
   "source": [
    "logs_clean=extracted_logs_df.withColumn('datetime',to_timestamp('timestamp', 'dd/MMM/yyyy:HH:mm:ss Z')).drop('timestamp')"
   ]
  },
  {
   "cell_type": "code",
   "execution_count": 29,
   "id": "1398a1cc-e264-4048-9385-71dcc2b3b363",
   "metadata": {},
   "outputs": [],
   "source": [
    "logs_clean=logs_clean.withColumn('Content_Size',logs_clean[\"content-size\"].cast(\"int\")).drop('content-size')"
   ]
  },
  {
   "cell_type": "code",
   "execution_count": 30,
   "id": "cdd904ab-2d5f-4ade-8ea6-80bad5d887de",
   "metadata": {},
   "outputs": [],
   "source": [
    "logs_clean=logs_clean.select('Client_Ip','datetime','method','path','protocol','statusCode','Content_Size','referrer','user_agent')"
   ]
  },
  {
   "cell_type": "code",
   "execution_count": 31,
   "id": "8c74a3df-57f6-46e2-9e16-174c1065903d",
   "metadata": {},
   "outputs": [
    {
     "name": "stdout",
     "output_type": "stream",
     "text": [
      "root\n",
      " |-- Client_Ip: string (nullable = true)\n",
      " |-- datetime: timestamp (nullable = true)\n",
      " |-- method: string (nullable = true)\n",
      " |-- path: string (nullable = true)\n",
      " |-- protocol: string (nullable = true)\n",
      " |-- statusCode: integer (nullable = true)\n",
      " |-- Content_Size: integer (nullable = true)\n",
      " |-- referrer: string (nullable = true)\n",
      " |-- user_agent: string (nullable = true)\n",
      "\n"
     ]
    }
   ],
   "source": [
    "logs_clean.printSchema()"
   ]
  },
  {
   "cell_type": "code",
   "execution_count": 32,
   "id": "31cc20ee-1c7a-4c62-be20-b2d827da15c0",
   "metadata": {},
   "outputs": [
    {
     "name": "stderr",
     "output_type": "stream",
     "text": [
      "                                                                                "
     ]
    },
    {
     "data": {
      "text/plain": [
       "10365152"
      ]
     },
     "execution_count": 32,
     "metadata": {},
     "output_type": "execute_result"
    }
   ],
   "source": [
    "logs_clean.count()"
   ]
  },
  {
   "cell_type": "code",
   "execution_count": 38,
   "id": "c1430acc-b5b9-4cb7-a916-9134c9183170",
   "metadata": {},
   "outputs": [],
   "source": [
    "logs_filtered = logs_clean.filter(\n",
    "    (col(\"Client_Ip\").isNotNull()) & (col(\"Client_Ip\") != \"\") &\n",
    "    (col(\"method\").isNotNull()) & (col(\"method\") != \"\") &\n",
    "    (col(\"statusCode\").isNotNull())\n",
    ")"
   ]
  },
  {
   "cell_type": "code",
   "execution_count": 39,
   "id": "5a61894b-b6af-42cf-ac33-14a5fd8657b3",
   "metadata": {},
   "outputs": [
    {
     "name": "stderr",
     "output_type": "stream",
     "text": [
      "                                                                                "
     ]
    },
    {
     "data": {
      "text/plain": [
       "10364866"
      ]
     },
     "execution_count": 39,
     "metadata": {},
     "output_type": "execute_result"
    }
   ],
   "source": [
    "logs_filtered.count()"
   ]
  },
  {
   "cell_type": "code",
   "execution_count": 40,
   "id": "fa087b3e-ea57-49a9-b27b-73ae8ad45697",
   "metadata": {},
   "outputs": [],
   "source": [
    "logs_filtered2=logs_filtered.filter(\n",
    "    (col('Content_Size')>0) & (col('Content_Size')<10000000) \n",
    ")"
   ]
  },
  {
   "cell_type": "code",
   "execution_count": 41,
   "id": "fa2b5c04-f329-4c04-b96d-2879620f0b47",
   "metadata": {},
   "outputs": [
    {
     "name": "stderr",
     "output_type": "stream",
     "text": [
      "                                                                                "
     ]
    },
    {
     "data": {
      "text/plain": [
       "9594260"
      ]
     },
     "execution_count": 41,
     "metadata": {},
     "output_type": "execute_result"
    }
   ],
   "source": [
    "logs_filtered2.count()"
   ]
  },
  {
   "cell_type": "code",
   "execution_count": 50,
   "id": "18692d32-c197-45a7-991d-0aea3e64646c",
   "metadata": {},
   "outputs": [],
   "source": [
    "from pyspark.sql.functions import when\n"
   ]
  },
  {
   "cell_type": "code",
   "execution_count": 51,
   "id": "07d32ff0-e13a-413b-801a-3f713f82de2c",
   "metadata": {},
   "outputs": [],
   "source": [
    "\n",
    "logs_filtered3 = logs_filtered2.withColumn(\n",
    "    \"referrer\",\n",
    "    when(col(\"referrer\") == \"-\", None).otherwise(col(\"referrer\"))\n",
    ")\n"
   ]
  },
  {
   "cell_type": "code",
   "execution_count": 52,
   "id": "474eaf9a-ee7a-4079-b741-71ec3da616e2",
   "metadata": {},
   "outputs": [
    {
     "name": "stdout",
     "output_type": "stream",
     "text": [
      "root\n",
      " |-- Client_Ip: string (nullable = true)\n",
      " |-- datetime: timestamp (nullable = true)\n",
      " |-- method: string (nullable = true)\n",
      " |-- path: string (nullable = true)\n",
      " |-- protocol: string (nullable = true)\n",
      " |-- statusCode: integer (nullable = true)\n",
      " |-- Content_Size: integer (nullable = true)\n",
      " |-- referrer: string (nullable = true)\n",
      " |-- user_agent: string (nullable = true)\n",
      "\n"
     ]
    }
   ],
   "source": [
    "logs_filtered3.printSchema()"
   ]
  },
  {
   "cell_type": "code",
   "execution_count": null,
   "id": "aaa647f8-d0a3-4a16-abd2-cac311f4e69a",
   "metadata": {},
   "outputs": [
    {
     "name": "stderr",
     "output_type": "stream",
     "text": [
      "[Stage 30:====>                                                    (2 + 2) / 27]"
     ]
    }
   ],
   "source": [
    "logs_filtered3.write.format('parquet').mode('overwrite').save('/home/ahmed/Desktop/Spark Course data/Logs_Parquet')"
   ]
  },
  {
   "cell_type": "code",
   "execution_count": null,
   "id": "e6415e98-e862-4508-9ae4-f7944c8f7976",
   "metadata": {},
   "outputs": [],
   "source": []
  }
 ],
 "metadata": {
  "kernelspec": {
   "display_name": "Python 3 (ipykernel)",
   "language": "python",
   "name": "python3"
  },
  "language_info": {
   "codemirror_mode": {
    "name": "ipython",
    "version": 3
   },
   "file_extension": ".py",
   "mimetype": "text/x-python",
   "name": "python",
   "nbconvert_exporter": "python",
   "pygments_lexer": "ipython3",
   "version": "3.13.5"
  }
 },
 "nbformat": 4,
 "nbformat_minor": 5
}
